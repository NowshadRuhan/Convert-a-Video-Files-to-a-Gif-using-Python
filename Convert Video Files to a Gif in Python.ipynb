{
 "cells": [
  {
   "cell_type": "code",
   "execution_count": 1,
   "id": "756cb6f4",
   "metadata": {},
   "outputs": [
    {
     "name": "stderr",
     "output_type": "stream",
     "text": [
      "'[SegmentLocal]' is not recognized as an internal or external command,\n",
      "operable program or batch file.\n"
     ]
    },
    {
     "data": {
      "text/html": [
       "<img src=\"video1.gif\"/>"
      ],
      "text/plain": [
       "<IPython.core.display.Image object>"
      ]
     },
     "execution_count": 1,
     "metadata": {},
     "output_type": "execute_result"
    }
   ],
   "source": [
    "from moviepy.editor import VideoFileClip #pip3 install moviepy\n",
    "from IPython.display import Image\n",
    "\n",
    "\n",
    "videoClip = VideoFileClip(\"video1.mp4\")\n",
    "videoClip.write_gif(\"video1.gif\")\n",
    "![SegmentLocal](video1.gif \"segment\")\n",
    "Image(url='video1.gif')  "
   ]
  },
  {
   "cell_type": "code",
   "execution_count": null,
   "id": "1d050185",
   "metadata": {},
   "outputs": [],
   "source": []
  }
 ],
 "metadata": {
  "kernelspec": {
   "display_name": "Python 3",
   "language": "python",
   "name": "python3"
  },
  "language_info": {
   "codemirror_mode": {
    "name": "ipython",
    "version": 3
   },
   "file_extension": ".py",
   "mimetype": "text/x-python",
   "name": "python",
   "nbconvert_exporter": "python",
   "pygments_lexer": "ipython3",
   "version": "3.8.8"
  }
 },
 "nbformat": 4,
 "nbformat_minor": 5
}
